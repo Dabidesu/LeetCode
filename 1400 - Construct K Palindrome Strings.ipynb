{
 "cells": [
  {
   "cell_type": "markdown",
   "metadata": {},
   "source": [
    "###  Given a string 's' and an integer 'k', return 'true' if you can use all the characters in 's' to construct 'k' palindrome strings or 'false' otherwise."
   ]
  },
  {
   "cell_type": "markdown",
   "metadata": {},
   "source": [
    "Example 1:\n",
    ">  Input: s = \"annabelle\", k = 2 \\\n",
    ">  Output: true \\\n",
    ">  Explanation: You can construct two palindromes using all characters in s. Some possible constructions \"anna\" + \"elble\", \"anbna\" + \"elle\", \"anellena\" + \"b\"\n",
    "\n",
    "Example 2: \n",
    "> Input: s = \"leetcode\", k = 3 \\\n",
    "> Output: false \\\n",
    "> Explanation: It is impossible to construct 3 palindromes using all the characters of s.\n",
    "\n",
    "Example 3: \n",
    "> Input: s = \"true\", k = 4 \\\n",
    "> Output: true \\\n",
    "> Explanation: The only possible solution is to put each character in a separate string.\n",
    "\n"
   ]
  },
  {
   "cell_type": "markdown",
   "metadata": {},
   "source": [
    "Constraints: \\\n",
    "• 1 <= s.length <= 10^5 \\\n",
    "• s consists of lowercase English letters. \\\n",
    "• 1 <= k <= 10^5\n"
   ]
  },
  {
   "cell_type": "code",
   "execution_count": 3,
   "metadata": {},
   "outputs": [],
   "source": [
    "class Solution:\n",
    "    def canConstruct(self, s: str, k: int) -> bool:\n",
    "        if len(s) < k:\n",
    "            return False\n",
    "\n",
    "        char_count = {}\n",
    "        for char in s:\n",
    "            char_count[char] = char_count.get(char, 0) + 1\n",
    "\n",
    "        odd_count = 0\n",
    "        for count in char_count.values():\n",
    "            if count % 2 != 0:\n",
    "                odd_count += 1\n",
    "\n",
    "        return odd_count <= k"
   ]
  }
 ],
 "metadata": {
  "kernelspec": {
   "display_name": "Python 3",
   "language": "python",
   "name": "python3"
  },
  "language_info": {
   "codemirror_mode": {
    "name": "ipython",
    "version": 3
   },
   "file_extension": ".py",
   "mimetype": "text/x-python",
   "name": "python",
   "nbconvert_exporter": "python",
   "pygments_lexer": "ipython3",
   "version": "3.12.7"
  }
 },
 "nbformat": 4,
 "nbformat_minor": 2
}
