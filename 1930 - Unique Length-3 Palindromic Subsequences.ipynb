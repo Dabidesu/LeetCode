{
 "cells": [
  {
   "cell_type": "markdown",
   "metadata": {},
   "source": [
    "###  Given a string s, return the number of unique palindromes of length three that are a subsequence of s.\n",
    "\n",
    "###  Note that even if there are multiple ways to obtain the same subsequence, it is still only counted once.\n",
    "\n",
    "###  A palindrome is a string that reads the same forwards and backwards.\n",
    "\n",
    "###  A subsequence of a string is a new string generated from the original string with some characters (can be none) deleted without changing the relative order of the remaining characters.\n",
    "\n",
    "###  For example, \"ace\" is a subsequence of \"abcde\"."
   ]
  },
  {
   "cell_type": "markdown",
   "metadata": {},
   "source": [
    "Example 1:\n",
    "\n",
    ">  Input: s = \"aabca\" \\\n",
    ">  Output: 3 \\\n",
    ">  Explanation: The 3 palindromic subsequences of length 3 are: \n",
    ">  - \"aba\" (subsequence of \"aabca\") \n",
    ">  - \"aaa\" (subsequence of \"aabca\") \n",
    ">  - \"aca\" (subsequence of \"aabca\")\n",
    "\n",
    "Example 2: \n",
    "\n",
    "> Input: s = \"adc\" \\\n",
    "> Output: 0 \\\n",
    "> Explanation: There are no palindromic subsequences of length 3 in \"adc\".\n",
    "\n",
    "Example 3:\n",
    "\n",
    ">  Input: s = \"bbcbaba\" \\\n",
    ">  Output: 4 \\\n",
    ">  Explanation: The 4 palindromic subsequences of length 3 are:\n",
    ">  - \"bbb\" (subsequence of \"bbcbaba\") \n",
    ">  - \"bcb\" (subsequence of \"bbcbaba\") \n",
    ">  - \"bab\" (subsequence of \"bbcbaba\") \n",
    ">  - \"aba\" (subsequence of \"bbcbaba\")"
   ]
  },
  {
   "cell_type": "markdown",
   "metadata": {},
   "source": [
    "Constraints:\n",
    "\n",
    "• 3 <= s.length <= 10^5 \\\n",
    "• s consists of only lowercase English letters.\n"
   ]
  },
  {
   "cell_type": "code",
   "execution_count": 3,
   "metadata": {},
   "outputs": [],
   "source": [
    "class Solution:\n",
    "    def countPalindromicSubsequence(self, s: str) -> int:\n",
    "        \n",
    "        first_occurrences = {}\n",
    "        last_occurrences = {}\n",
    "        for i, char in enumerate(s):\n",
    "            if char not in first_occurrences:\n",
    "                first_occurrences[char] = i\n",
    "            last_occurrences[char] = i\n",
    "\n",
    "        unique_palindromes = set()\n",
    "        for char in first_occurrences:\n",
    "            if first_occurrences[char] < last_occurrences[char]:\n",
    "                for mid_char in set(s[first_occurrences[char]+1:last_occurrences[char]]):\n",
    "                    unique_palindromes.add(char + mid_char + char)\n",
    "\n",
    "        return len(unique_palindromes)"
   ]
  }
 ],
 "metadata": {
  "kernelspec": {
   "display_name": "Python 3",
   "language": "python",
   "name": "python3"
  },
  "language_info": {
   "codemirror_mode": {
    "name": "ipython",
    "version": 3
   },
   "file_extension": ".py",
   "mimetype": "text/x-python",
   "name": "python",
   "nbconvert_exporter": "python",
   "pygments_lexer": "ipython3",
   "version": "3.12.7"
  }
 },
 "nbformat": 4,
 "nbformat_minor": 2
}
