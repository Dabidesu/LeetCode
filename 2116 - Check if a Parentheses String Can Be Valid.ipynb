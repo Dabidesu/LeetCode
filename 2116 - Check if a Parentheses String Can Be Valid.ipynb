{
 "cells": [
  {
   "cell_type": "markdown",
   "metadata": {},
   "source": [
    "###  A parentheses string is a non-empty string consisting only of '(' and ')'. It is valid if any of the following conditions is true:\n",
    "###  • It is (). \\\n",
    "###  • It can be written as AB (A concatenated with B), where A and B are valid parentheses strings. \\\n",
    "###  • It can be written as (A), where A is a valid parentheses string. \\\n",
    "###  You are given a parentheses string s and a string locked, both of length n. locked is a binary string consisting only of '0's and '1's. For each index i of locked, \\\n",
    "###  • If locked[i] is '1', you cannot change s[i]. \\\n",
    "###  • But if locked[i] is '0', you can change s[i] to either '(' or ')'. \\\n",
    "###  Return true if you can make s a valid parentheses string. Otherwise, return false."
   ]
  },
  {
   "cell_type": "markdown",
   "metadata": {},
   "source": [
    "Example 1: \\\n",
    "![exampleOne](img/2116.png \"exampleOne\") \n",
    ">  Input: s = \"))()))\", locked = \"010100\" \\\n",
    ">  Output: true \\\n",
    ">  Explanation: locked[1] == '1' and locked[3] == '1', so we cannot change s[1] or s[3]. We change s[0] and s[4] to '(' while leaving s[2] and s[5] unchanged to make s valid.\n",
    "\n",
    "Example 2: \n",
    "> Input: s = \"()()\", locked = \"0000\" \\\n",
    "> Output: true \\\n",
    "> Explanation: We do not need to make any changes because s is already valid.\n",
    "\n",
    "Example 3: \n",
    "> Input: s = \")\", locked = \"0\" \\\n",
    "> Output: false \\\n",
    "> Explanation: locked permits us to change s[0]. Changing s[0] to either '(' or ')' will not make s valid."
   ]
  },
  {
   "cell_type": "markdown",
   "metadata": {},
   "source": [
    "Constraints: \\\n",
    "• n == s.length == locked.length \\\n",
    "• 1 <= n <= 10^5 \\\n",
    "• s[i] is either '(' or ')'. \\\n",
    "• locked[i] is either '0' or '1'.\n"
   ]
  },
  {
   "cell_type": "code",
   "execution_count": 1,
   "metadata": {},
   "outputs": [],
   "source": [
    "class Solution:\n",
    "    def canBeValid(self, s: str, locked: str) -> bool:\n",
    "        n = len(s)\n",
    "        if n % 2 != 0:\n",
    "            return False \n",
    "\n",
    "        open_possible = 0\n",
    "        for i in range(n):\n",
    "            if s[i] == '(' or locked[i] == '0':\n",
    "                open_possible += 1\n",
    "            else:\n",
    "                open_possible -= 1\n",
    "            if open_possible < 0:\n",
    "                return False\n",
    "\n",
    "        close_possible = 0\n",
    "        for i in range(n - 1, -1, -1):\n",
    "            if s[i] == ')' or locked[i] == '0':\n",
    "                close_possible += 1\n",
    "            else:\n",
    "                close_possible -= 1\n",
    "            if close_possible < 0:\n",
    "                return False\n",
    "\n",
    "        return True"
   ]
  }
 ],
 "metadata": {
  "kernelspec": {
   "display_name": "Python 3",
   "language": "python",
   "name": "python3"
  },
  "language_info": {
   "codemirror_mode": {
    "name": "ipython",
    "version": 3
   },
   "file_extension": ".py",
   "mimetype": "text/x-python",
   "name": "python",
   "nbconvert_exporter": "python",
   "pygments_lexer": "ipython3",
   "version": "3.12.7"
  }
 },
 "nbformat": 4,
 "nbformat_minor": 2
}
