{
 "cells": [
  {
   "cell_type": "markdown",
   "metadata": {},
   "source": [
    "###  Given an array of string 'words', return all strings in 'words' that is a substring of another word. You can return the answer in any order.\n",
    "\n",
    "###  A substring is a contiguous sequence of characters within a string"
   ]
  },
  {
   "cell_type": "markdown",
   "metadata": {},
   "source": [
    "Example 1:\n",
    "\n",
    ">  Input: words = [\"mass\",\"as\",\"hero\",\"superhero\"] \\\n",
    ">  Output: [\"as\",\"hero\"] \\\n",
    ">  Explanation: \"as\" is substring of \"mass\" and \"hero\" is substring of \"superhero\". \\\n",
    ">  [\"hero\",\"as\"] is also a valid answer.\n",
    "\n",
    "Example 2: \n",
    "\n",
    "> Input: words = [\"leetcode\",\"et\",\"code\"] \\\n",
    "> Output: [\"et\",\"code\"] \\\n",
    "> Explanation: \"et\", \"code\" are substring of \"leetcode\".\n",
    "\n",
    "Example 3:\n",
    "\n",
    ">  Input: words = [\"blue\",\"green\",\"bu\"] \\\n",
    ">  Output: [] \\\n",
    ">  Explanation: No string of words is substring of another string."
   ]
  },
  {
   "cell_type": "markdown",
   "metadata": {},
   "source": [
    "Constraints: \\\n",
    "• 1 <= words.length <= 100 \\\n",
    "• 1 <= words[i].length <= 30 \\\n",
    "• words[i] contains only lowercase English letters. \\\n",
    "• All the strings of words are unique.\n"
   ]
  },
  {
   "cell_type": "code",
   "execution_count": 3,
   "metadata": {},
   "outputs": [],
   "source": [
    "class Solution:\n",
    "    def stringMatching(self, words: List[str]) -> List[str]:\n",
    "        result = []\n",
    "        for wordo in words:\n",
    "            for wordwo in words:\n",
    "                if wordo != wordwo and wordo in wordwo:\n",
    "                    result.append(wordo)\n",
    "                    break\n",
    "        return result"
   ]
  }
 ],
 "metadata": {
  "kernelspec": {
   "display_name": "Python 3",
   "language": "python",
   "name": "python3"
  },
  "language_info": {
   "codemirror_mode": {
    "name": "ipython",
    "version": 3
   },
   "file_extension": ".py",
   "mimetype": "text/x-python",
   "name": "python",
   "nbconvert_exporter": "python",
   "pygments_lexer": "ipython3",
   "version": "3.12.7"
  }
 },
 "nbformat": 4,
 "nbformat_minor": 2
}
