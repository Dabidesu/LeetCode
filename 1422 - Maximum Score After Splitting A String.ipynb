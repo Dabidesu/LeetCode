{
 "cells": [
  {
   "cell_type": "markdown",
   "metadata": {},
   "source": [
    "### Given a string s of zeros and ones, return the maximum score after splitting the string into two non-empty substrings (i.e. left substring and right substring). \n",
    "### The score after splitting a string is the number of zeros in the left substring plus the number of ones in the right substring."
   ]
  },
  {
   "cell_type": "markdown",
   "metadata": {},
   "source": [
    "Example 1:\n",
    "\n",
    "> Input: s = \"011101\" \\\n",
    "> Output: 5 \\\n",
    "> Explanation: \n",
    "> All possible ways of splitting s into two non-empty substrings are: \\\n",
    "> left = \"0\" and right = \"11101\", score = 1 + 4 = 5  \\\n",
    "> left = \"01\" and right = \"1101\", score = 1 + 3 = 4  \\\n",
    "> left = \"011\" and right = \"101\", score = 1 + 2 = 3  \\\n",
    "> left = \"0111\" and right = \"01\", score = 1 + 1 = 2  \\\n",
    "> left = \"01110\" and right = \"1\", score = 2 + 1 = 3 \n",
    "\n",
    "Example 2:\n",
    "\n",
    "> Input: s = \"00111\"\n",
    "> Output: 5\n",
    "> Explanation: When left = \"00\" and right = \"111\", we get the maximum score = 2 + 3 = 5\n",
    "\n",
    "Example 3:\n",
    "\n",
    "> Input: s = \"1111\"\n",
    "> Output: 3\n"
   ]
  },
  {
   "cell_type": "markdown",
   "metadata": {},
   "source": [
    "Constraints:\n",
    "\n",
    "• 2 <= s.length <= 500 \\\n",
    "• -10^6 <= nums[i] <= 10^6"
   ]
  },
  {
   "cell_type": "code",
   "execution_count": 1,
   "metadata": {},
   "outputs": [],
   "source": [
    "class Solution:\n",
    "    def maxScore(self, s: str) -> int:\n",
    "        \n",
    "        left_zeros = 0\n",
    "        right_ones = s.count('1')\n",
    "        max_score = 0\n",
    "\n",
    "        for i in range(len(s) - 1):\n",
    "            if s[i] == '0':\n",
    "                left_zeros += 1\n",
    "            else:\n",
    "                right_ones -= 1\n",
    "            max_score = max(max_score, left_zeros + right_ones)\n",
    "\n",
    "        return max_score"
   ]
  }
 ],
 "metadata": {
  "kernelspec": {
   "display_name": "Python 3",
   "language": "python",
   "name": "python3"
  },
  "language_info": {
   "codemirror_mode": {
    "name": "ipython",
    "version": 3
   },
   "file_extension": ".py",
   "mimetype": "text/x-python",
   "name": "python",
   "nbconvert_exporter": "python",
   "pygments_lexer": "ipython3",
   "version": "3.12.7"
  }
 },
 "nbformat": 4,
 "nbformat_minor": 2
}
