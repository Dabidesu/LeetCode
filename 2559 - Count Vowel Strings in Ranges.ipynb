{
 "cells": [
  {
   "cell_type": "markdown",
   "metadata": {},
   "source": [
    "\n",
    "\n",
    "### You are given a 0-indexed array of strings words and a 2D array of integers queries.\n",
    "\n",
    "### Each query queries[i] = [l_i, r_i] asks us to find the number of strings present in the range li to ri (both inclusive) of words that start and end with a vowel.\n",
    "\n",
    "### Return an array ans of size queries.length, where ans[i] is the answer to the ith query.\n",
    "\n",
    "### Note that the vowel letters are 'a', 'e', 'i', 'o', and 'u'."
   ]
  },
  {
   "cell_type": "markdown",
   "metadata": {},
   "source": [
    "Example 1:\n",
    "\n",
    "> Input: words = [\"aba\",\"bcb\",\"ece\",\"aa\",\"e\"], queries = [[0,2],[1,4],[1,1]] \\\n",
    "> Output: [2,3,0] \\\n",
    "> Explanation: The strings starting and ending with a vowel are \"aba\", \"ece\", \"aa\" and \"e\".\\\n",
    "> The answer to the query [0,2] is 2 (strings \"aba\" and \"ece\").\n",
    "> to query [1,4] is 3 (strings \"ece\", \"aa\", \"e\").\n",
    "> to query [1,1] is 0.\n",
    "> We return [2,3,0].\n",
    "\n",
    "Example 2: \n",
    "\n",
    "> Input: words = [\"a\",\"e\",\"i\"], queries = [[0,2],[0,1],[2,2]] \\\n",
    "> Output: [3,2,1] \\\n",
    "> Explanation: Every string satisfies the conditions, so we return [3,2,1]. \n",
    "\n"
   ]
  },
  {
   "cell_type": "markdown",
   "metadata": {},
   "source": [
    "Constraints:\n",
    "\n",
    "• 1 <= words.length <= 10^5 \\\n",
    "• 1 <= words[i].length <= 40 \\\n",
    "• words[i] consists only of lowercase English letters. \\\n",
    "• sum(words[i].length) <= 3 * 10^5 \\\n",
    "• 1 <= queries.length <= 10^5 \\\n",
    "• 0 <= l_i <= r_i < words.length"
   ]
  },
  {
   "cell_type": "code",
   "execution_count": 1,
   "metadata": {},
   "outputs": [],
   "source": [
    "from typing import List\n",
    "\n",
    "class Solution:\n",
    "    def vowelStrings(self, words: List[str], queries: List[List[int]]) -> List[int]:\n",
    "        vowel_counts = [0] * (len(words) + 1) \n",
    "\n",
    "        for i, word in enumerate(words):\n",
    "            if word[0] in 'aeiou' and word[-1] in 'aeiou':\n",
    "                vowel_counts[i + 1] = vowel_counts[i] + 1\n",
    "            else:\n",
    "                vowel_counts[i + 1] = vowel_counts[i]\n",
    "\n",
    "        result = []\n",
    "        for left, right in queries:\n",
    "            result.append(vowel_counts[right + 1] - vowel_counts[left])\n",
    "\n",
    "        return result"
   ]
  }
 ],
 "metadata": {
  "kernelspec": {
   "display_name": "Python 3",
   "language": "python",
   "name": "python3"
  },
  "language_info": {
   "codemirror_mode": {
    "name": "ipython",
    "version": 3
   },
   "file_extension": ".py",
   "mimetype": "text/x-python",
   "name": "python",
   "nbconvert_exporter": "python",
   "pygments_lexer": "ipython3",
   "version": "3.12.7"
  }
 },
 "nbformat": 4,
 "nbformat_minor": 2
}
