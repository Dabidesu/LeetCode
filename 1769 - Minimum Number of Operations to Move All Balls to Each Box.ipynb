{
 "cells": [
  {
   "cell_type": "markdown",
   "metadata": {},
   "source": [
    "###   You have n boxes. You are given a binary string boxes of length n, where boxes[i] is '0' if the ith box is empty, and '1' if it contains one ball.\n",
    "\n",
    "###   In one operation, you can move one ball from a box to an adjacent box. Box i is adjacent to box j if abs(i - j) == 1. Note that after doing so, there may be more than one ball in some boxes.\n",
    "\n",
    "###   Return an array answer of size n, where answer[i] is the minimum number of operations needed to move all the balls to the ith box.\n",
    "\n",
    "###   Each answer[i] is calculated considering the initial state of the boxes.\n",
    "\n",
    "\n",
    "\n",
    "\n"
   ]
  },
  {
   "cell_type": "markdown",
   "metadata": {},
   "source": [
    "Example 1:\n",
    "\n",
    "> Input: boxes = \"110\"  \\\n",
    "> Output: [1,1,3]  \\\n",
    "> Explanation: The answer for each box is as follows:\n",
    "> 1) First box: you will have to move one ball from the second box to the first box in one operation.  \\\n",
    "> 2) Second box: you will have to move one ball from the first box to the second box in one operation.  \\\n",
    "> 3) Third box: you will have to move one ball from the first box to the third box in two operations, and move one ball from the second box to the third box in one operation. \n",
    "\n",
    "Example 2: \n",
    "\n",
    "> Input: boxes = \"001011\" \\\n",
    "> Output: [11,8,5,4,3,4] \n"
   ]
  },
  {
   "cell_type": "markdown",
   "metadata": {},
   "source": [
    "Constraints:\n",
    "\n",
    "• n == boxes.length \\\n",
    "• 1 <= n <= 2000 \\\n",
    "• boxes[i] is either '0' or '1'. \n"
   ]
  },
  {
   "cell_type": "code",
   "execution_count": 3,
   "metadata": {},
   "outputs": [],
   "source": [
    "from typing import List\n",
    "\n",
    "class Solution:\n",
    "    def minOperations(self, boxes: str) -> List[int]:\n",
    "        n = len(boxes)\n",
    "        answer = [0] * n\n",
    "\n",
    "        count = 0\n",
    "        operations = 0\n",
    "        for i in range(n):\n",
    "            answer[i] += operations\n",
    "            count += int(boxes[i])\n",
    "            operations += count\n",
    "        \n",
    "        count = 0\n",
    "        operations = 0\n",
    "        for i in range(n - 1, -1, -1):\n",
    "            answer[i] += operations\n",
    "            count += int(boxes[i]) \n",
    "            operations += count \n",
    "        \n",
    "        return answer"
   ]
  }
 ],
 "metadata": {
  "kernelspec": {
   "display_name": "Python 3",
   "language": "python",
   "name": "python3"
  },
  "language_info": {
   "codemirror_mode": {
    "name": "ipython",
    "version": 3
   },
   "file_extension": ".py",
   "mimetype": "text/x-python",
   "name": "python",
   "nbconvert_exporter": "python",
   "pygments_lexer": "ipython3",
   "version": "3.12.7"
  }
 },
 "nbformat": 4,
 "nbformat_minor": 2
}
