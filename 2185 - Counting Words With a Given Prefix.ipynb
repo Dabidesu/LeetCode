{
 "cells": [
  {
   "cell_type": "markdown",
   "metadata": {},
   "source": [
    "###  You are given an array of strings 'words' and a string 'pref'.\n",
    "\n",
    "###  Return the number of strings in 'words' that contain 'pref' as a prefix.\n",
    "\n",
    "###  A prefix of a string 's' is any leading contiguous substring of 's'."
   ]
  },
  {
   "cell_type": "markdown",
   "metadata": {},
   "source": [
    "Example 1:\n",
    ">  Input: words = [\"pay\",\"attention\",\"practice\",\"attend\"], pref = \"at\" \\\n",
    ">  Output: 2 \\\n",
    ">  Explanation: The 2 strings that contain \"at\" as a prefix are: \"attention\" and \"attend\".\n",
    "\n",
    "Example 2: \n",
    "> Input: words = [\"leetcode\",\"win\",\"loops\",\"success\"], pref = \"code\" \\\n",
    "> Output: 0 \\\n",
    "> Explanation: There are no strings that contain \"code\" as a prefix.\n"
   ]
  },
  {
   "cell_type": "markdown",
   "metadata": {},
   "source": [
    "Constraints: \\\n",
    "• 1 <= words.length <= 100 \\\n",
    "• 1 <= words[i].length, pref.length <= 100 \\\n",
    "• words[i] and 'pref' consist of lowercase English letters.\n"
   ]
  },
  {
   "cell_type": "code",
   "execution_count": 3,
   "metadata": {},
   "outputs": [],
   "source": [
    "from typing import List\n",
    "\n",
    "class Solution:\n",
    "    def prefixCount(self, words: List[str], pref: str) -> int:\n",
    "        return sum(w.startswith(pref) for w in words) "
   ]
  }
 ],
 "metadata": {
  "kernelspec": {
   "display_name": "Python 3",
   "language": "python",
   "name": "python3"
  },
  "language_info": {
   "codemirror_mode": {
    "name": "ipython",
    "version": 3
   },
   "file_extension": ".py",
   "mimetype": "text/x-python",
   "name": "python",
   "nbconvert_exporter": "python",
   "pygments_lexer": "ipython3",
   "version": "3.12.7"
  }
 },
 "nbformat": 4,
 "nbformat_minor": 2
}
