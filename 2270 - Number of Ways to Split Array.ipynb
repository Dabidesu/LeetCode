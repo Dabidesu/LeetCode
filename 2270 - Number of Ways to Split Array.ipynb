{
 "cells": [
  {
   "cell_type": "markdown",
   "metadata": {},
   "source": [
    "###  You are given a 0-indexed integer array nums of length n.\n",
    "\n",
    "###  \"nums\" contains a valid split at index i if the following are true:\n",
    "\n",
    "    The sum of the first i + 1 elements is greater than or equal to the sum of the last n - i - 1 elements.\n",
    "    There is at least one element to the right of i. That is, 0 <= i < n - 1.\n",
    "\n",
    "###  Return the number of valid splits in nums."
   ]
  },
  {
   "cell_type": "markdown",
   "metadata": {},
   "source": [
    "Example 1:\n",
    "\n",
    ">  Input: nums = [10,4,-8,7]\n",
    ">  Output: 2\n",
    ">  Explanation: \n",
    ">  There are three ways of splitting nums into two non-empty parts:\n",
    ">  - Split nums at index 0. Then, the first part is [10], and its sum is 10. The second part is [4,-8,7], and its sum is 3. Since 10 >= 3, i = 0 is a valid split.\n",
    ">  - Split nums at index 1. Then, the first part is [10,4], and its sum is 14. The second part is [-8,7], and its sum is -1. Since 14 >= -1, i = 1 is a valid split.\n",
    ">  - Split nums at index 2. Then, the first part is [10,4,-8], and its sum is 6. The second part is [7], and its sum is 7. Since 6 < 7, i = 2 is not a valid split.\n",
    ">  Thus, the number of valid splits in nums is 2.\n",
    "\n",
    "Example 2: \n",
    "\n",
    "> Input: nums = [2,3,1,0]\n",
    "> Output: 2\n",
    "> Explanation: \n",
    "> There are two valid splits in nums:\n",
    "> - Split nums at index 1. Then, the first part is [2,3], and its sum is 5. The second part is [1,0], and its sum is 1. Since 5 >= 1, i = 1 is a valid split. \n",
    "> - Split nums at index 2. Then, the first part is [2,3,1], and its sum is 6. The second part is [0], and its sum is 0. Since 6 >= 0, i = 2 is a valid split.\n"
   ]
  },
  {
   "cell_type": "markdown",
   "metadata": {},
   "source": [
    "Constraints:\n",
    "\n",
    "• 2 <= nums.length <= 10^5 \\\n",
    "• -10^5 <= nums[i] <= 10^5\n"
   ]
  },
  {
   "cell_type": "code",
   "execution_count": 3,
   "metadata": {},
   "outputs": [],
   "source": [
    "from typing import List\n",
    "\n",
    "class Solution:\n",
    "    def waysToSplitArray(self, nums: List[int]) -> int:\n",
    "\n",
    "        n = len(nums)\n",
    "        prefix_sums = [0] * n\n",
    "        prefix_sums[0] = nums[0]\n",
    "\n",
    "        for i in range(1, n):\n",
    "            prefix_sums[i] = prefix_sums[i - 1] + nums[i]\n",
    "\n",
    "        total_sum = prefix_sums[-1]\n",
    "        count = 0\n",
    "\n",
    "        for i in range(n - 1):\n",
    "            if prefix_sums[i] >= total_sum - prefix_sums[i]:\n",
    "                count += 1\n",
    "\n",
    "        return count"
   ]
  }
 ],
 "metadata": {
  "kernelspec": {
   "display_name": "Python 3",
   "language": "python",
   "name": "python3"
  },
  "language_info": {
   "codemirror_mode": {
    "name": "ipython",
    "version": 3
   },
   "file_extension": ".py",
   "mimetype": "text/x-python",
   "name": "python",
   "nbconvert_exporter": "python",
   "pygments_lexer": "ipython3",
   "version": "3.12.7"
  }
 },
 "nbformat": 4,
 "nbformat_minor": 2
}
