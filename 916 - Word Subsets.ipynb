{
 "cells": [
  {
   "cell_type": "markdown",
   "metadata": {},
   "source": [
    "###  You are given two string arrays 'words1' and 'words2'.\n",
    "\n",
    "###  A string 'b' is a subset of string 'a' if every letter in 'b' occurs in 'a' including multiplicity.\n",
    "\n",
    "###  For example, \"wrr\" is a subset of \"warrior\" but is not a subset of \"world\".\n",
    "\n",
    "###  A string 'a' from 'words1' is universal if for every string 'b' in 'words2', 'b' is a subset of 'a'.\n",
    "\n",
    "###  Return an array of all the universal strings in 'words1'. You may return the answer in any order."
   ]
  },
  {
   "cell_type": "markdown",
   "metadata": {},
   "source": [
    "Example 1:\n",
    ">  Input: words1 = [\"amazon\",\"apple\",\"facebook\",\"google\",\"leetcode\"], words2 = [\"e\",\"o\"] \\\n",
    ">  Output: [\"facebook\",\"google\",\"leetcode\"] \n",
    "\n",
    "Example 2: \n",
    "> Input: words1 = [\"amazon\",\"apple\",\"facebook\",\"google\",\"leetcode\"], words2 = [\"l\",\"e\"] \\\n",
    "> Output: [\"apple\",\"google\",\"leetcode\"] \n"
   ]
  },
  {
   "cell_type": "markdown",
   "metadata": {},
   "source": [
    "Constraints: \\\n",
    "• 1 <= words1.length, words2.length <= 10^4 \\\n",
    "• 1 <= words1[i].length, words2[i].length <= 10 \\\n",
    "• words1[i] and words2[i] consist only of lowercase English letters. \\\n",
    "• All the strings of words1 are unique.\n"
   ]
  },
  {
   "cell_type": "code",
   "execution_count": 3,
   "metadata": {},
   "outputs": [],
   "source": [
    "from typing import List\n",
    "from collections import Counter\n",
    "\n",
    "class Solution:\n",
    "    def wordSubsets(self, words1: List[str], words2: List[str]) -> List[str]:\n",
    "        max_freq = {}\n",
    "        for word in words2:\n",
    "            word_count = Counter(word)\n",
    "            for char in word_count:\n",
    "                max_freq[char] = max(max_freq.get(char, 0), word_count[char])\n",
    "\n",
    "        result = []\n",
    "        for word in words1:\n",
    "            word_count = Counter(word)\n",
    "            if all(word_count[char] >= freq for char, freq in max_freq.items()):\n",
    "                result.append(word)\n",
    "\n",
    "        return result"
   ]
  }
 ],
 "metadata": {
  "kernelspec": {
   "display_name": "Python 3",
   "language": "python",
   "name": "python3"
  },
  "language_info": {
   "codemirror_mode": {
    "name": "ipython",
    "version": 3
   },
   "file_extension": ".py",
   "mimetype": "text/x-python",
   "name": "python",
   "nbconvert_exporter": "python",
   "pygments_lexer": "ipython3",
   "version": "3.12.7"
  }
 },
 "nbformat": 4,
 "nbformat_minor": 2
}
