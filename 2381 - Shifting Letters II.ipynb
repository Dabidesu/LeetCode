{
 "cells": [
  {
   "cell_type": "markdown",
   "metadata": {},
   "source": [
    "###   You are given a string s of lowercase English letters and a 2D integer array shifts where shifts[i] = [start_i, end_i, direction_i]. For every i, shift the characters in s from the index start_i to the index end_i (inclusive) forward if direction_i = 1, or shift the characters backward if direction_i = 0.\n",
    "\n",
    "###   Shifting a character forward means replacing it with the next letter in the alphabet (wrapping around so that 'z' becomes 'a'). Similarly, shifting a character backward means replacing it with the previous letter in the alphabet (wrapping around so that 'a' becomes 'z').\n",
    "\n",
    "###   Return the final string after all such shifts to s are applied."
   ]
  },
  {
   "cell_type": "markdown",
   "metadata": {},
   "source": [
    "Example 1:\n",
    "\n",
    "> Input: s = \"abc\", shifts = [[0,1,0],[1,2,1],[0,2,1]] \\\n",
    "> Output: \"ace\" \\\n",
    "> Explanation: Firstly, shift the characters from index 0 to index 1 backward. Now s = \"zac\". \\\n",
    "> Secondly, shift the characters from index 1 to index 2 forward. Now s = \"zbd\". \\\n",
    "> Finally, shift the characters from index 0 to index 2 forward. Now s = \"ace\".\n",
    "\n",
    "Example 2: \n",
    "\n",
    "> Input: s = \"dztz\", shifts = [[0,0,0],[1,1,1]] \\\n",
    "> Output: \"catz\" \\\n",
    "> Explanation: Firstly, shift the characters from index 0 to index 0 backward. Now s = \"cztz\". \\\n",
    "> Finally, shift the characters from index 1 to index 1 forward. Now s = \"catz\".\n"
   ]
  },
  {
   "cell_type": "markdown",
   "metadata": {},
   "source": [
    "Constraints:\n",
    "\n",
    "• 1 <= s.length, shifts.length <= 5 * 10^4 \\\n",
    "• shifts[i].length == 3 \\\n",
    "• 0 <= start_i <= end_i < s.length \\\n",
    "• 0 <= direction_i <= 1 \\\n",
    "• s consists of lowercase English letters.\n",
    "\n"
   ]
  },
  {
   "cell_type": "code",
   "execution_count": 3,
   "metadata": {},
   "outputs": [],
   "source": [
    "from typing import List\n",
    "\n",
    "class Solution:\n",
    "    def shiftingLetters(self, s: str, shifts: List[List[int]]) -> str:\n",
    "    \n",
    "        n = len(s)\n",
    "        shift_count = [0] * (n + 1)\n",
    "\n",
    "        for start, end, direction in shifts:\n",
    "            shift_count[start] += 1 if direction else -1\n",
    "            shift_count[end + 1] -= 1 if direction else -1\n",
    "\n",
    "        for i in range(1, n + 1):\n",
    "            shift_count[i] += shift_count[i - 1]\n",
    "\n",
    "        result = \"\"\n",
    "        for i in range(n):\n",
    "            shift = shift_count[i]\n",
    "            new_char = ord(s[i]) - ord('a') + shift\n",
    "            new_char = (new_char % 26 + 26) % 26 \n",
    "            result += chr(new_char + ord('a'))\n",
    "\n",
    "        return result"
   ]
  }
 ],
 "metadata": {
  "kernelspec": {
   "display_name": "Python 3",
   "language": "python",
   "name": "python3"
  },
  "language_info": {
   "codemirror_mode": {
    "name": "ipython",
    "version": 3
   },
   "file_extension": ".py",
   "mimetype": "text/x-python",
   "name": "python",
   "nbconvert_exporter": "python",
   "pygments_lexer": "ipython3",
   "version": "3.12.7"
  }
 },
 "nbformat": 4,
 "nbformat_minor": 2
}
