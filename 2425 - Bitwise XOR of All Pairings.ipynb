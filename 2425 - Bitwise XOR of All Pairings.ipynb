{
 "cells": [
  {
   "cell_type": "markdown",
   "metadata": {},
   "source": [
    "\n",
    "\n",
    "### You are given two 0-indexed arrays, nums1 and nums2, consisting of non-negative integers. There exists another array, nums3, which contains the bitwise XOR of all pairings of integers between nums1 and nums2 (every integer in nums1 is paired with every integer in nums2 exactly once).\n",
    "\n",
    "### Return the bitwise XOR of all integers in nums3."
   ]
  },
  {
   "cell_type": "markdown",
   "metadata": {},
   "source": [
    "Example 1:\n",
    "\n",
    "> Input: nums1 = [2,1,3], nums2 = [10,2,5,0] \\\n",
    "> Output: 13 \\\n",
    "> Explanation: A possible nums3 array is [8,0,7,2,11,3,4,1,9,1,6,3]. \\\n",
    "> The bitwise XOR of all these numbers is 13, so we return 13.\n",
    "\n",
    "Example 2: \n",
    "\n",
    "> Input: nums1 = [1,2], nums2 = [3,4]\\\n",
    "> Output: 0 \\\n",
    "> Explanation: All possible pairs of bitwise XORs are nums1[0] ^ nums2[0], nums1[0] ^ nums2[1], nums1[1] ^ nums2[0], and nums1[1] ^ nums2[1]. \\\n",
    "> Thus, one possible nums3 array is [2,5,1,6]. 2 ^ 5 ^ 1 ^ 6 = 0, so we return 0.\n",
    "\n"
   ]
  },
  {
   "cell_type": "markdown",
   "metadata": {},
   "source": [
    "Constraints:\n",
    "\n",
    "• 1 <= nums1.length, nums2.length <= 10^5 \\\n",
    "• 0 <= nums1[i], nums2[j] <= 10^9\n"
   ]
  },
  {
   "cell_type": "code",
   "execution_count": 3,
   "metadata": {},
   "outputs": [],
   "source": [
    "class Solution:\n",
    "    def xorAllNums(self, nums1, nums2):\n",
    "        ans = 0\n",
    "\n",
    "        m = len(nums2)\n",
    "        if m % 2 == 1:\n",
    "            for ele in nums1:\n",
    "                ans ^= ele\n",
    "\n",
    "        n = len(nums1)\n",
    "        if n % 2 == 1:\n",
    "            for ele in nums2:\n",
    "                ans ^= ele\n",
    "\n",
    "        return ans"
   ]
  }
 ],
 "metadata": {
  "kernelspec": {
   "display_name": "Python 3",
   "language": "python",
   "name": "python3"
  },
  "language_info": {
   "codemirror_mode": {
    "name": "ipython",
    "version": 3
   },
   "file_extension": ".py",
   "mimetype": "text/x-python",
   "name": "python",
   "nbconvert_exporter": "python",
   "pygments_lexer": "ipython3",
   "version": "3.12.7"
  }
 },
 "nbformat": 4,
 "nbformat_minor": 2
}
