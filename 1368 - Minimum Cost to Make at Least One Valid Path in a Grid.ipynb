{
 "cells": [
  {
   "cell_type": "markdown",
   "metadata": {},
   "source": [
    "###  Given an m x n grid. Each cell of the grid has a sign pointing to the next cell you should visit if you are currently in this cell. The sign of grid[i][j] can be:\n",
    "\n",
    "###  • 1 which means go to the cell to the right. (i.e go from grid[i][j] to grid[i][j + 1])\n",
    "\n",
    "###  • 2 which means go to the cell to the left. (i.e go from grid[i][j] to grid[i][j - 1])\n",
    "\n",
    "###  • 3 which means go to the lower cell. (i.e go from grid[i][j] to grid[i + 1][j])\n",
    "\n",
    "###  • 4 which means go to the upper cell. (i.e go from grid[i][j] to grid[i - 1][j])\n",
    "\n",
    "###  Notice that there could be some signs on the cells of the grid that point outside the grid.\n",
    "\n",
    "###  You will initially start at the upper left cell (0, 0). A valid path in the grid is a path that starts from the upper left cell (0, 0) and ends at the bottom-right cell (m - 1, n - 1) following the signs on the grid. The valid path does not have to be the shortest.\n",
    "\n",
    "###  You can modify the sign on a cell with cost = 1. You can modify the sign on a cell one time only.\n",
    "\n",
    "###  Return the minimum cost to make the grid have at least one valid path.\n"
   ]
  },
  {
   "cell_type": "markdown",
   "metadata": {},
   "source": [
    "Example 1: \\\n",
    "<img src=\"img/1368a.png\" alt=\"exampleOne\" style=\"width: 200px;\"/>\n",
    ">  Input: grid = [[1,1,1,1],[2,2,2,2],[1,1,1,1],[2,2,2,2]] \\\n",
    ">  Output: 3 \\\n",
    ">  Explanation: You will start at point (0, 0). \\\n",
    ">  The path to (3, 3) is as follows. (0, 0) --> (0, 1) --> (0, 2) --> (0, 3) change the arrow to down with cost = 1 --> (1, 3) --> (1, 2) --> (1, 1) --> (1, 0) change the arrow to down with cost = 1 --> (2, 0) --> (2, 1) --> (2, 2) --> (2, 3) change the arrow to down with cost = 1 --> (3, 3)  \\\n",
    ">  The total cost = 3.\n",
    "\n",
    "Example 2: \\\n",
    "<img src=\"img/1368b.png\" alt=\"exampleTwo\" style=\"width: 200px;\"/>\n",
    "> Input: grid = [[1,1,3],[3,2,2],[1,1,4]] \\\n",
    "> Output: 0 \\\n",
    "> Explanation: You can follow the path from (0, 0) to (2, 2).\n",
    "\n",
    "Example 3: \\\n",
    "<img src=\"img/1368c.png\" alt=\"exampleThree\" style=\"width: 200px;\"/>\n",
    ">  Input: grid = [[1,2],[4,3]] \\\n",
    ">  Output: 1"
   ]
  },
  {
   "cell_type": "markdown",
   "metadata": {},
   "source": [
    "Constraints: \\\n",
    "• m == grid.length \\\n",
    "• n == grid[i].length \\\n",
    "• 1 <= m, n <= 100 \\\n",
    "• 1 <= grid[i][j] <= 4\n"
   ]
  },
  {
   "cell_type": "code",
   "execution_count": 3,
   "metadata": {},
   "outputs": [],
   "source": [
    "class Solution:\n",
    "    def minCost(self, grid: List[List[int]]) -> int:\n",
    "        m, n = len(grid), len(grid[0])\n",
    "        dirs = [[0, 0], [0, 1], [0, -1], [1, 0], [-1, 0]]\n",
    "        q = deque([(0, 0, 0)])\n",
    "        vis = set()\n",
    "        while q:\n",
    "            i, j, d = q.popleft()\n",
    "            if (i, j) in vis:\n",
    "                continue\n",
    "            vis.add((i, j))\n",
    "            if i == m - 1 and j == n - 1:\n",
    "                return d\n",
    "            for k in range(1, 5):\n",
    "                x, y = i + dirs[k][0], j + dirs[k][1]\n",
    "                if 0 <= x < m and 0 <= y < n:\n",
    "                    if grid[i][j] == k:\n",
    "                        q.appendleft((x, y, d))\n",
    "                    else:\n",
    "                        q.append((x, y, d + 1))\n",
    "        return -1"
   ]
  }
 ],
 "metadata": {
  "kernelspec": {
   "display_name": "Python 3",
   "language": "python",
   "name": "python3"
  },
  "language_info": {
   "codemirror_mode": {
    "name": "ipython",
    "version": 3
   },
   "file_extension": ".py",
   "mimetype": "text/x-python",
   "name": "python",
   "nbconvert_exporter": "python",
   "pygments_lexer": "ipython3",
   "version": "3.12.7"
  }
 },
 "nbformat": 4,
 "nbformat_minor": 2
}
