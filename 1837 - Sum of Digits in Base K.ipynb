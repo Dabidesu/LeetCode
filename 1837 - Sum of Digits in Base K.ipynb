{
 "cells": [
  {
   "cell_type": "markdown",
   "metadata": {},
   "source": [
    "###  Given an integer n (in base 10) and a base k, return the sum of the digits of n after converting n from base 10 to base k.\n",
    "\n",
    "###  After converting, each digit should be interpreted as a base 10 number, and the sum should be returned in base 10."
   ]
  },
  {
   "cell_type": "markdown",
   "metadata": {},
   "source": [
    "Example 1:\n",
    "\n",
    ">  Input: n = 34, k = 6 \\\n",
    ">  Output: 9 \\\n",
    ">  Explanation: 34 (base 10) expressed in base 6 is 54. 5 + 4 = 9.\n",
    "\n",
    "Example 2: \n",
    "\n",
    "> Input: n = 10, k = 10 \\\n",
    "> Output: 1 \\\n",
    "> Explanation: n is already in base 10. 1 + 0 = 1. "
   ]
  },
  {
   "cell_type": "markdown",
   "metadata": {},
   "source": [
    "Constraints:\n",
    "\n",
    "• 1 <= n <= 100 \\\n",
    "• 2 <= k <= 10\n"
   ]
  },
  {
   "cell_type": "code",
   "execution_count": 3,
   "metadata": {},
   "outputs": [],
   "source": [
    "class Solution:\n",
    "    def sumBase(self, n: int, k: int) -> int:\n",
    "    \n",
    "        result = 0\n",
    "        while n > 0:\n",
    "            result += n % k\n",
    "            n //= k\n",
    "\n",
    "        return result"
   ]
  }
 ],
 "metadata": {
  "kernelspec": {
   "display_name": "Python 3",
   "language": "python",
   "name": "python3"
  },
  "language_info": {
   "codemirror_mode": {
    "name": "ipython",
    "version": 3
   },
   "file_extension": ".py",
   "mimetype": "text/x-python",
   "name": "python",
   "nbconvert_exporter": "python",
   "pygments_lexer": "ipython3",
   "version": "3.12.7"
  }
 },
 "nbformat": 4,
 "nbformat_minor": 2
}
